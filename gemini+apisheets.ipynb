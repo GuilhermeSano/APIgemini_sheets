{
  "nbformat": 4,
  "nbformat_minor": 0,
  "metadata": {
    "colab": {
      "provenance": [],
      "authorship_tag": "ABX9TyPs0hYWj3eFuu3nAL/JvsR/",
      "include_colab_link": true
    },
    "kernelspec": {
      "name": "python3",
      "display_name": "Python 3"
    },
    "language_info": {
      "name": "python"
    }
  },
  "cells": [
    {
      "cell_type": "markdown",
      "metadata": {
        "id": "view-in-github",
        "colab_type": "text"
      },
      "source": [
        "<a href=\"https://colab.research.google.com/github/GuilhermeSano/APIgemini_sheets/blob/main/gemini%2Bapisheets.ipynb\" target=\"_parent\"><img src=\"https://colab.research.google.com/assets/colab-badge.svg\" alt=\"Open In Colab\"/></a>"
      ]
    },
    {
      "cell_type": "code",
      "execution_count": 1,
      "metadata": {
        "colab": {
          "base_uri": "https://localhost:8080/",
          "height": 89
        },
        "id": "IJ25e5Hg7ne3",
        "outputId": "29d322ff-7bcf-44fa-9124-2b9c0e21c6ba"
      },
      "outputs": [
        {
          "name": "stdout",
          "output_type": "stream",
          "text": [
            "Digite sua consulta (ou \"sair\" para encerrar): perfumes\n",
            "Chanel Nº 5, Dior J'adore, Yves Saint Laurent Black Opium, Gucci Bloom, Lancôme La Vie Est Belle, Carolina Herrera Good Girl, Paco Rabanne 1 Million, Giorgio Armani Acqua di Gio, Dolce & Gabbana Light Blue, Thierry Mugler Angel.\n",
            "Digite sua consulta (ou \"sair\" para encerrar): sair\n"
          ]
        }
      ],
      "source": [
        "import numpy as np\n",
        "import pandas as pd\n",
        "import google.generativeai as genai\n",
        "import google.auth\n",
        "from google.colab import auth\n",
        "from googleapiclient.discovery import build\n",
        "import hashlib\n",
        "\n",
        "auth.authenticate_user()\n",
        "#É necessário gerar uma API_KEY no site https://aistudio.google.com/app/apikey\n",
        "GOOGLE_API_KEY = \"SUA_APIKEY_AQUI\"\n",
        "genai.configure(api_key=GOOGLE_API_KEY)\n",
        "#É necessário ligar o API do google sheets no site https://console.cloud.google.com, a planilha abaixo é de testes apenas.\n",
        "SPREADSHEET_ID = '1T9seWy7AJeXKg0Jhg2pDSyeI0QuVTA4b86VaYnn_a0Y'\n",
        "MODEL = \"models/embedding-001\"\n",
        "\n",
        "#Cache de embeddings\n",
        "cache_embeddings = {}\n",
        "\n",
        "#Função para gerar embeddings com cache\n",
        "def gerar_embedding(texto):\n",
        "    chave_cache = hashlib.md5(texto.encode()).hexdigest()\n",
        "    if chave_cache in cache_embeddings:\n",
        "        return cache_embeddings[chave_cache]\n",
        "    else:\n",
        "        embedding = genai.embed_content(\n",
        "            model=MODEL,\n",
        "            content=texto,\n",
        "            task_type=\"RETRIEVAL_DOCUMENT\"\n",
        "        )[\"embedding\"]\n",
        "        cache_embeddings[chave_cache] = embedding\n",
        "        return embedding\n",
        "\n",
        "#Função para buscar dados da planilha\n",
        "def get_data_from_sheet(sheet_name):\n",
        "    creds, _ = google.auth.default()\n",
        "    service = build('sheets', 'v4', credentials=creds)\n",
        "    result = service.spreadsheets().values().get(spreadsheetId=SPREADSHEET_ID, range=sheet_name).execute()\n",
        "    values = result.get('values', [])\n",
        "\n",
        "    if values:  #Verifica se values não está vazio\n",
        "        if len(values) > 1:\n",
        "            if values[0] and isinstance(values[0][0], str):\n",
        "                return pd.DataFrame(values[1:], columns=values[0])\n",
        "            else:\n",
        "                return pd.DataFrame(values)\n",
        "        elif len(values) == 1 and len(values[0]) > 0:\n",
        "            return pd.DataFrame(data=[values[0]])\n",
        "        else:\n",
        "            return pd.DataFrame()\n",
        "    else:\n",
        "        return pd.DataFrame()  #Retorna um DataFrame vazio se values estiver vazio\n",
        "\n",
        "#Função para buscar a linha mais relevante\n",
        "def buscar_documento(consulta, df_all):\n",
        "    embedding_consulta = gerar_embedding(consulta)\n",
        "    melhor_pontuacao = float(\"-inf\")\n",
        "    melhor_linha = None\n",
        "    for sheet_name, df in df_all.items():\n",
        "        for i, linha in df.iterrows():\n",
        "            if linha.dropna().empty:  #Verifica se a linha está vazia\n",
        "                continue\n",
        "            conteudo_linha = ' '.join(str(x) for x in linha.values)\n",
        "            embedding_linha = gerar_embedding(conteudo_linha)\n",
        "            pontuacao = np.dot(embedding_linha, embedding_consulta)\n",
        "            if linha is not None:  #Verifica se a linha não é None\n",
        "                if pontuacao > melhor_pontuacao:\n",
        "                    melhor_pontuacao = pontuacao\n",
        "                    melhor_linha = linha\n",
        "    if melhor_linha is not None:\n",
        "        return melhor_linha[\"Conteudo\"]\n",
        "    else:\n",
        "        return None\n",
        "\n",
        "#Carregar dados da planilha\n",
        "creds, _ = google.auth.default()\n",
        "service = build('sheets', 'v4', credentials=creds)\n",
        "sheet = service.spreadsheets()\n",
        "result = sheet.get(spreadsheetId=SPREADSHEET_ID).execute()\n",
        "abas = result.get('sheets', [])\n",
        "df_all = {aba['properties']['title']: get_data_from_sheet(aba['properties']['title']) for aba in abas if get_data_from_sheet(aba['properties']['title']) is not None}\n",
        "\n",
        "#Loop principal\n",
        "while True:\n",
        "    consulta = input('Digite sua consulta (ou \"sair\" para encerrar): ')\n",
        "    if consulta.lower() == \"sair\":\n",
        "        break\n",
        "    linha = buscar_documento(consulta, df_all)\n",
        "    if linha is not None:\n",
        "        print(linha)\n",
        "    else:\n",
        "        print(\"Nenhum resultado encontrado.\")"
      ]
    }
  ]
}
